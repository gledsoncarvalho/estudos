{
 "cells": [
  {
   "cell_type": "code",
   "execution_count": 12,
   "metadata": {},
   "outputs": [
    {
     "name": "stdout",
     "output_type": "stream",
     "text": [
      "{'gued': 19, 'pedro': 18, 'maria': 20}\n",
      "19\n",
      "25\n",
      "24\n",
      "{'gued': 19, 'pedro': 18, 'maria': 25, 'paula': 24}\n",
      "19 18 25 24 dict_items([('gued', 19), ('pedro', 18), ('maria', 25), ('paula', 24)])\n",
      "dict_keys(['gued', 'pedro', 'maria', 'paula'])\n",
      "dict_values([19, 18, 25, 24])\n",
      "True\n"
     ]
    }
   ],
   "source": [
    "dictionary = {'gued':19, 'maria':20, 'pedro': 18} \n",
    "print(dictionary)\n",
    "print(dictionary['gued'])\n",
    "dictionary['maria'] = 25\n",
    "print(dictionary['maria'])\n",
    "dictionary['paula'] = 24\n",
    "print(dictionary['paula'])\n",
    "print(dictionary)\n",
    "\n",
    "for k in dictionary:\n",
    "    print(dictionary[k], end=' ')\n",
    "print(dictionary.items()) # exibe todos os items do dicionario\n",
    "print(dictionary.keys()) # exibe as chaves\n",
    "print(dictionary.values()) # exibe os valores\n",
    "print('gued' in dictionary)\n"
   ]
  }
 ],
 "metadata": {
  "kernelspec": {
   "display_name": "Python 3",
   "language": "python",
   "name": "python3"
  },
  "language_info": {
   "codemirror_mode": {
    "name": "ipython",
    "version": 3
   },
   "file_extension": ".py",
   "mimetype": "text/x-python",
   "name": "python",
   "nbconvert_exporter": "python",
   "pygments_lexer": "ipython3",
   "version": "3.5.2"
  }
 },
 "nbformat": 4,
 "nbformat_minor": 2
}
