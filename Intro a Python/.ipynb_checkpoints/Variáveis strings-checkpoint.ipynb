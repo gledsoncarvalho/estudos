{
 "cells": [
  {
   "cell_type": "code",
   "execution_count": 15,
   "metadata": {},
   "outputs": [
    {
     "name": "stdout",
     "output_type": "stream",
     "text": [
      "Gledson\n",
      "G\n",
      "7\n",
      "son\n"
     ]
    }
   ],
   "source": [
    "nome = \"Gledson\"\n",
    "print(nome)\n",
    "type(nome)\n",
    "print(nome[0]) # access letter for indice\n",
    "print(len(nome))\n",
    "print(nome[-3:])\n"
   ]
  },
  {
   "cell_type": "code",
   "execution_count": 17,
   "metadata": {},
   "outputs": [
    {
     "name": "stdout",
     "output_type": "stream",
     "text": [
      "GledsonCarvalho\n"
     ]
    }
   ],
   "source": [
    "nome = \"Gledson\"\n",
    "sobrenome = \"Carvalho\"\n",
    "nome_completo = nome + sobrenome\n",
    "print(nome_completo)"
   ]
  },
  {
   "cell_type": "code",
   "execution_count": 20,
   "metadata": {},
   "outputs": [
    {
     "name": "stdout",
     "output_type": "stream",
     "text": [
      "João tem 20 anos e a sua namorada se chama MAria\n"
     ]
    }
   ],
   "source": [
    "idade = 20\n",
    "namorada = \"MAria\"\n",
    "print(\"João tem %d anos e a sua namorada se chama %s\" % (idade,namorada))"
   ]
  },
  {
   "cell_type": "code",
   "execution_count": 24,
   "metadata": {},
   "outputs": [
    {
     "name": "stdout",
     "output_type": "stream",
     "text": [
      "3.121\n"
     ]
    }
   ],
   "source": [
    "media = 3.12131415131\n",
    "print('%.3f' % media)"
   ]
  },
  {
   "cell_type": "code",
   "execution_count": 27,
   "metadata": {},
   "outputs": [
    {
     "name": "stdout",
     "output_type": "stream",
     "text": [
      "139782331951344\n",
      "139782331952072\n"
     ]
    }
   ],
   "source": [
    "nome = \"Gledson\" # strings = imutable\n",
    "nome2 = \"Santos\"\n",
    "print(id(nome2))\n",
    "print(id(nome))"
   ]
  }
 ],
 "metadata": {
  "kernelspec": {
   "display_name": "Python 3",
   "language": "python",
   "name": "python3"
  },
  "language_info": {
   "codemirror_mode": {
    "name": "ipython",
    "version": 3
   },
   "file_extension": ".py",
   "mimetype": "text/x-python",
   "name": "python",
   "nbconvert_exporter": "python",
   "pygments_lexer": "ipython3",
   "version": "3.5.2"
  }
 },
 "nbformat": 4,
 "nbformat_minor": 2
}
