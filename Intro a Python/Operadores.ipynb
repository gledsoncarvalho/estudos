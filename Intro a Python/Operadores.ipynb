{
 "cells": [
  {
   "cell_type": "code",
   "execution_count": 40,
   "metadata": {},
   "outputs": [
    {
     "name": "stdout",
     "output_type": "stream",
     "text": [
      "True\n",
      "False\n"
     ]
    }
   ],
   "source": [
    "# == igualdade\n",
    "# > maior que\n",
    "# < menor que \n",
    "# != diferente\n",
    "# >= maiou ou igual\n",
    "# <= menor ou igual\n",
    "\n",
    "# result True or False - relacion operators\n",
    "\n",
    "n1 = 10\n",
    "n2 = 20\n",
    "print(n1 < n2)\n",
    "print(n1 > n2)\n"
   ]
  },
  {
   "cell_type": "code",
   "execution_count": 41,
   "metadata": {},
   "outputs": [
    {
     "name": "stdout",
     "output_type": "stream",
     "text": [
      "2\n"
     ]
    }
   ],
   "source": [
    "v1 = 10\n",
    "v2 = 20 \n",
    "print(v2 // v1) # division of integers "
   ]
  },
  {
   "cell_type": "code",
   "execution_count": 42,
   "metadata": {},
   "outputs": [],
   "source": [
    "base = 2\n",
    "exp = 10 \n",
    "result = base ** exp\n",
    "print(result)"
   ]
  },
  {
   "cell_type": "code",
   "execution_count": 43,
   "metadata": {},
   "outputs": [
    {
     "name": "stdout",
     "output_type": "stream",
     "text": [
      "False\n"
     ]
    }
   ],
   "source": [
    "#logics operators\n",
    "# not -> não (negação)\n",
    "# and -> e (conjunção)\n",
    "# or -> ou (disjunção)\n",
    "\n",
    "# prioritate not > and > or \n",
    "\n",
    "aprovado = True\n",
    "não_aprovado = not aprovado\n",
    "print(não_aprovado)"
   ]
  }
 ],
 "metadata": {
  "kernelspec": {
   "display_name": "Python 3",
   "language": "python",
   "name": "python3"
  },
  "language_info": {
   "codemirror_mode": {
    "name": "ipython",
    "version": 3
   },
   "file_extension": ".py",
   "mimetype": "text/x-python",
   "name": "python",
   "nbconvert_exporter": "python",
   "pygments_lexer": "ipython3",
   "version": "3.5.2"
  }
 },
 "nbformat": 4,
 "nbformat_minor": 2
}
